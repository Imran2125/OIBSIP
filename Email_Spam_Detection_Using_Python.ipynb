{
  "nbformat": 4,
  "nbformat_minor": 0,
  "metadata": {
    "colab": {
      "provenance": [],
      "authorship_tag": "ABX9TyOHOcND76KvLZxZi1qlpqW1",
      "include_colab_link": true
    },
    "kernelspec": {
      "name": "python3",
      "display_name": "Python 3"
    },
    "language_info": {
      "name": "python"
    }
  },
  "cells": [
    {
      "cell_type": "markdown",
      "metadata": {
        "id": "view-in-github",
        "colab_type": "text"
      },
      "source": [
        "<a href=\"https://colab.research.google.com/github/Imran2125/OIBSIP/blob/main/Email_Spam_Detection_Using_Python.ipynb\" target=\"_parent\"><img src=\"https://colab.research.google.com/assets/colab-badge.svg\" alt=\"Open In Colab\"/></a>"
      ]
    },
    {
      "cell_type": "markdown",
      "source": [
        "**OASIS INTERNSHIP**"
      ],
      "metadata": {
        "id": "NZy1H1OQ24ln"
      }
    },
    {
      "cell_type": "markdown",
      "source": [
        "**NAME:IMRAN ULLA BAIG K**"
      ],
      "metadata": {
        "id": "8diFQH2q5F1X"
      }
    },
    {
      "cell_type": "markdown",
      "source": [
        "**TASK 3:EMAIL SPAM DETECTION USING MACHINE LEARNING**"
      ],
      "metadata": {
        "id": "0N3Tjhd_5KLk"
      }
    },
    {
      "cell_type": "markdown",
      "source": [
        "Importing the dependencies"
      ],
      "metadata": {
        "id": "4z4QwO-Z5jjD"
      }
    },
    {
      "cell_type": "code",
      "source": [
        "import numpy as np\n",
        "import pandas as pd\n",
        "from sklearn.model_selection import train_test_split\n",
        "from sklearn.feature_extraction.text import TfidfVectorizer\n",
        "from sklearn.linear_model import LogisticRegression\n",
        "from sklearn.metrics import accuracy_score"
      ],
      "metadata": {
        "id": "-ze_ICJe5nwk"
      },
      "execution_count": null,
      "outputs": []
    }
  ]
}