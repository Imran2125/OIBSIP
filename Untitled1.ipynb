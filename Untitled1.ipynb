{
  "nbformat": 4,
  "nbformat_minor": 0,
  "metadata": {
    "colab": {
      "provenance": [],
      "authorship_tag": "ABX9TyM1eZ07b31hAhLaCeG6CKy/",
      "include_colab_link": true
    },
    "kernelspec": {
      "name": "python3",
      "display_name": "Python 3"
    },
    "language_info": {
      "name": "python"
    }
  },
  "cells": [
    {
      "cell_type": "markdown",
      "metadata": {
        "id": "view-in-github",
        "colab_type": "text"
      },
      "source": [
        "<a href=\"https://colab.research.google.com/github/Imran2125/OIBSIP/blob/main/Untitled1.ipynb\" target=\"_parent\"><img src=\"https://colab.research.google.com/assets/colab-badge.svg\" alt=\"Open In Colab\"/></a>"
      ]
    },
    {
      "cell_type": "markdown",
      "source": [
        "Dataset Information:\n",
        "The data set contains 3 classes of 150 instances each,where each class refers to a type of iris plant.each class is linearly separable from the other\n",
        "\n",
        "Attribute Information:\n",
        "1.sepal length in cm\n",
        "2.sepal width in cm\n",
        "3.petal length in cm\n",
        "4.petal width in cm\n",
        "5.class:--Iris Setosa,Iris Versicolour,Iris Virginica"
      ],
      "metadata": {
        "id": "VUvOz-yhSlTe"
      }
    },
    {
      "cell_type": "markdown",
      "source": [
        "Import Modules"
      ],
      "metadata": {
        "id": "HEJCe9koWfJY"
      }
    },
    {
      "cell_type": "code",
      "source": [
        "import pandas as pd\n",
        "import numpy as np\n",
        "import os\n",
        "import matplotlib.pyplot as plt\n",
        "import seaborn as sns\n"
      ],
      "metadata": {
        "id": "bkQXnQxnWhy6"
      },
      "execution_count": 1,
      "outputs": []
    },
    {
      "cell_type": "markdown",
      "source": [],
      "metadata": {
        "id": "3qgD7n04XAMS"
      }
    }
  ]
}